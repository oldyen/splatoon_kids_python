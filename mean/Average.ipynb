{
 "cells": [
  {
   "cell_type": "markdown",
   "metadata": {},
   "source": [
    "## Definition "
   ]
  },
  {
   "cell_type": "markdown",
   "metadata": {},
   "source": [
    "There are total n number"
   ]
  },
  {
   "cell_type": "markdown",
   "metadata": {},
   "source": [
    "$x_1, \\cdot \\cdot \\cdot, x_n$"
   ]
  },
  {
   "cell_type": "markdown",
   "metadata": {},
   "source": [
    "$average = \\frac{x_1 + \\cdot \\cdot \\cdot + x_n}{n} = \\frac{\\sum_{i=1}^{n}x_i}{n}$"
   ]
  },
  {
   "cell_type": "markdown",
   "metadata": {},
   "source": [
    "## Example\n",
    "\n",
    "$x_1 = 10$    \n",
    "$x_2 = 20$    \n",
    "$x_3 = 30$   \n",
    "$average (x_1,x_2,x_3)= \\frac{x_1+x_2+x_3}{3} = \\frac{10+20+30}{3} = \\frac{60}{3}= 20$"
   ]
  },
  {
   "cell_type": "markdown",
   "metadata": {},
   "source": [
    "## exercise"
   ]
  },
  {
   "cell_type": "markdown",
   "metadata": {},
   "source": [
    "``` python\n",
    "a = [10,20,30]\n",
    "result = my_average(a)\n",
    "print(result) ## 20\n",
    "```"
   ]
  },
  {
   "cell_type": "code",
   "execution_count": 1,
   "metadata": {},
   "outputs": [
    {
     "name": "stdout",
     "output_type": "stream",
     "text": [
      "20.0\n"
     ]
    }
   ],
   "source": [
    "def my_ave(a):\n",
    "    my_sum = 0\n",
    "    my_count = 0\n",
    "    for i in a:\n",
    "        my_sum = my_sum + i\n",
    "        my_count = my_count + 1\n",
    "    return my_sum/my_count\n",
    "my_list = [10,20,30]\n",
    "result = my_ave(my_list)\n",
    "print(result)"
   ]
  }
 ],
 "metadata": {
  "kernelspec": {
   "display_name": "Python 3",
   "language": "python",
   "name": "python3"
  },
  "language_info": {
   "codemirror_mode": {
    "name": "ipython",
    "version": 3
   },
   "file_extension": ".py",
   "mimetype": "text/x-python",
   "name": "python",
   "nbconvert_exporter": "python",
   "pygments_lexer": "ipython3",
   "version": "3.8.2"
  }
 },
 "nbformat": 4,
 "nbformat_minor": 4
}
