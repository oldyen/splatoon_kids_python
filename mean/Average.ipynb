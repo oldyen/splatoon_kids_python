{
 "cells": [
  {
   "cell_type": "markdown",
   "metadata": {},
   "source": [
    "## Definition "
   ]
  },
  {
   "cell_type": "markdown",
   "metadata": {},
   "source": [
    "There are total n number"
   ]
  },
  {
   "cell_type": "markdown",
   "metadata": {},
   "source": [
    "$x_1, \\cdot \\cdot \\cdot, x_n$"
   ]
  },
  {
   "cell_type": "markdown",
   "metadata": {},
   "source": [
    "$average = \\frac{x_1 + \\cdot \\cdot \\cdot + x_n}{n} = \\frac{\\sum_{i=1}^{n}x_i}{n}$"
   ]
  },
  {
   "cell_type": "markdown",
   "metadata": {},
   "source": [
    "## Example\n",
    "\n",
    "$x_1 = 10$    \n",
    "$x_2 = 20$    \n",
    "$x_3 = 30$   \n",
    "$average (x_1,x_2,x_3)= \\frac{x_1+x_2+x_3}{3} = \\frac{10+20+30}{3} = \\frac{60}{3}= 20$"
   ]
  },
  {
   "cell_type": "markdown",
   "metadata": {},
   "source": [
    "## exercise"
   ]
  },
  {
   "cell_type": "markdown",
   "metadata": {},
   "source": [
    "``` python\n",
    "a = [10,20,30]\n",
    "result = my_average(a)\n",
    "print(result) ## 20\n",
    "```"
   ]
  },
  {
   "cell_type": "code",
   "execution_count": 5,
   "metadata": {},
   "outputs": [
    {
     "ename": "SyntaxError",
     "evalue": "unexpected EOF while parsing (<ipython-input-5-7da4f9430681>, line 6)",
     "output_type": "error",
     "traceback": [
      "\u001b[0;36m  File \u001b[0;32m\"<ipython-input-5-7da4f9430681>\"\u001b[0;36m, line \u001b[0;32m6\u001b[0m\n\u001b[0;31m    ## TODO: Please enter your code here\u001b[0m\n\u001b[0m                                        ^\u001b[0m\n\u001b[0;31mSyntaxError\u001b[0m\u001b[0;31m:\u001b[0m unexpected EOF while parsing\n"
     ]
    }
   ],
   "source": [
    "a = [10,20,30]\n",
    "\n",
    "# step 1: get sum 10+20+30 = 60\n",
    "my_sum = 0\n",
    "for i in a:\n",
    "    ## TODO: Please enter your code here"
   ]
  }
 ],
 "metadata": {
  "kernelspec": {
   "display_name": "Python 3",
   "language": "python",
   "name": "python3"
  },
  "language_info": {
   "codemirror_mode": {
    "name": "ipython",
    "version": 3
   },
   "file_extension": ".py",
   "mimetype": "text/x-python",
   "name": "python",
   "nbconvert_exporter": "python",
   "pygments_lexer": "ipython3",
   "version": "3.8.2"
  }
 },
 "nbformat": 4,
 "nbformat_minor": 4
}
