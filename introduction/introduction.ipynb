{
 "cells": [
  {
   "cell_type": "markdown",
   "metadata": {},
   "source": [
    "# pythong\n",
    "1 jupyter notebook  \n",
    "2 stackoverflow: https://stackoverflow.com  \n",
    "3 github: https://github.com/oldyen/splatoon_kids_python "
   ]
  },
  {
   "cell_type": "markdown",
   "metadata": {},
   "source": [
    "# Outline\n",
    "\n",
    "1 variable 參數  \n",
    "1.1 integer 整數  \n",
    "1.2 float 浮點數  \n",
    "1.3 string 字串  \n",
    "1.4 bool (True/False)  \n",
    "2. data structure    \n",
    "2.1 list 串列    \n",
    "2.2 array 陣列  \n",
    "2.2 tuple 元祖  \n",
    "2.3 dictionary 字典 only available in python  \n",
    "3 if   \n",
    "4 for loop  \n",
    "5 while  \n",
    "6 function 函式  \n",
    "7 object oriented (Class) 物件  \n",
    "8 application 應用, e.g., data science, UX, or AI  \n"
   ]
  },
  {
   "cell_type": "markdown",
   "metadata": {},
   "source": [
    "## Vairable 變數\n",
    "\n",
    "a = 1"
   ]
  },
  {
   "cell_type": "code",
   "execution_count": null,
   "metadata": {},
   "outputs": [],
   "source": [
    "splatoon_player_name = 'Ben' ## string \n",
    "type(splatoon_player_name)"
   ]
  },
  {
   "cell_type": "code",
   "execution_count": null,
   "metadata": {},
   "outputs": [],
   "source": [
    "splatoon_player_level = 88 ## integer\n",
    "type(splatoon_player_level)"
   ]
  },
  {
   "cell_type": "code",
   "execution_count": null,
   "metadata": {},
   "outputs": [],
   "source": [
    "splatoon_player_win = 48.5 ## float\n",
    "type(splatoon_player_win)"
   ]
  },
  {
   "cell_type": "code",
   "execution_count": null,
   "metadata": {},
   "outputs": [],
   "source": [
    "splatoon_player_is_octo = True ## bool \n",
    "type(splatoon_player_is_octo)"
   ]
  },
  {
   "cell_type": "markdown",
   "metadata": {},
   "source": [
    "## List 陣列"
   ]
  },
  {
   "cell_type": "code",
   "execution_count": null,
   "metadata": {},
   "outputs": [],
   "source": [
    "splatoon_player_name_1 = \"Luke\"\n",
    "splatoon_player_name_2 = \"Kyle\"\n",
    "splatoon_player_name_3 = \"Ben\"\n",
    "\n",
    "splatoon_ks_player_names = [\"Luke\", \"Kyle\", \"Ben\"]\n",
    "splatoon_ks_player_grades_string = [\"4\", \"5\", \"6\"]\n",
    "splatoon_ks_player_grades_int = [4, 5, 6]\n",
    "splatoon_ks_player_grades_float = [4.0, 5.0, 6.0]\n",
    "[[\"Luke\",4], [\"Kyle\",5],[\"Ben\",6]]\n",
    "print(splatoon_ks_player_names)\n",
    "print(splatoon_ks_player_grades_string)\n",
    "print(splatoon_ks_player_grades_int)\n",
    "print(splatoon_ks_player_grades_float)\n",
    "print(splatoon_ks_player_all_info)"
   ]
  },
  {
   "cell_type": "code",
   "execution_count": null,
   "metadata": {},
   "outputs": [],
   "source": [
    "splatoon_ks_player_names = [\"Luke\", \"Kyle\", \"Ben\"]\n",
    "print(splatoon_ks_player_names[0])\n",
    "print(splatoon_ks_player_names[1])\n",
    "print(splatoon_ks_player_names[2])\n",
    "print(splatoon_ks_player_names[-1])\n",
    "print(splatoon_ks_player_names[-2])\n",
    "print(splatoon_ks_player_names[0:2])\n",
    "print(splatoon_ks_player_names[1:3])\n",
    "\n",
    "print(splatoon_ks_player_names[0:-1])\n",
    "\n",
    "\n",
    "splatoon_ks_player_names = [\"Luke\", \"Kyle\", \"Ben\"]\n",
    "splatoon_ks_player_names[1] = \"AC\"\n",
    "print(splatoon_ks_player_names)\n",
    "\n",
    "\n",
    "splatoon_ks_player_names = [\"Luke\", \"Kyle\", \"Ben\"]\n",
    "splatoon_ks_player_names.append(\"AC\")\n",
    "print(splatoon_ks_player_names)\n"
   ]
  },
  {
   "cell_type": "code",
   "execution_count": null,
   "metadata": {},
   "outputs": [],
   "source": [
    "## variable = value (type = integer float string boolean list dictionary)\n",
    "## 變數 = 值 （型態 = 整數 浮點數 字串 布林值 陣列 字典）\n",
    "\n",
    "lucas = 3 ## integer\n",
    "lucas = \"son\" ## string\n",
    "lucas = 1.5 ## float\n",
    "lucas = True ## boolean\n",
    "\n",
    "lucas = [3,\"son\", 1.5, True]\n",
    "print(type(lucas))\n",
    "print(type(lucas[0]))\n",
    "print(type(lucas[1]))\n",
    "print(type(lucas[2]))\n",
    "print(type(lucas[3]))\n",
    "\n",
    "kitty = lucas\n",
    "kitty = lucas[-1]\n",
    "print(kitty)\n",
    "\n",
    "\n"
   ]
  },
  {
   "cell_type": "markdown",
   "metadata": {},
   "source": [
    "$\\sum_{i=1}^{n} \\sigma_i$"
   ]
  },
  {
   "cell_type": "markdown",
   "metadata": {},
   "source": [
    "tuple 多元: can't change value; 不能改值"
   ]
  },
  {
   "cell_type": "code",
   "execution_count": null,
   "metadata": {},
   "outputs": [],
   "source": [
    "j = [\"John\",\"A\"]\n",
    "s = (\"Smith\",\"B\")\n",
    "print(type(j))\n",
    "print(j)\n",
    "print(type(s))\n",
    "print(s)\n",
    "j[1] = \"o\"\n",
    "print(j)\n",
    "s[1] = \"o\""
   ]
  },
  {
   "cell_type": "markdown",
   "metadata": {},
   "source": [
    "# Dictionary 字典"
   ]
  },
  {
   "cell_type": "code",
   "execution_count": null,
   "metadata": {},
   "outputs": [],
   "source": [
    "d_to_eng = {1:\"one\", 2:\"two\", 3:\"three\"}\n",
    "print(d_to_eng)\n",
    "print(type(d_to_eng))\n",
    "print(d_to_eng[1],d_to_eng[2], d_to_eng[3])\n",
    "\n",
    "d_to_number = {\"one\":1, \"two\":2, \"three\":3}\n",
    "print(d_to_number[\"one\"],d_to_number[\"two\"], d_to_number[\"three\"])\n",
    "\n",
    "ks_kid = {\"lucas\":[\"dog\", 3, 1.5], \"splatoon\":[\"octo\", 5, 132.1]}\n",
    "print(ks_kid[\"lucas\"])\n",
    "print(ks_kid[\"splatoon\"][2])\n",
    "print(ks_kid[\"lucas\"][1])\n",
    "\n",
    "#### query expansion\n",
    "##query = \"lucas\" \n",
    "##d = {\"lucas\":[\"luke\",\"luca\"]}"
   ]
  },
  {
   "cell_type": "markdown",
   "metadata": {},
   "source": [
    "## funciton 函數"
   ]
  },
  {
   "cell_type": "code",
   "execution_count": null,
   "metadata": {},
   "outputs": [],
   "source": [
    "ks_team = [\"A\",\"B\",\"D\",\"K\",\"L\",\"A\",\"Y\"]\n",
    "print(ks_team)"
   ]
  },
  {
   "cell_type": "code",
   "execution_count": null,
   "metadata": {},
   "outputs": [],
   "source": [
    "def print_ks_team():\n",
    "    ks_team = [\"A\",\"B\",\"D\",\"K\",\"L\",\"A\",\"Y\"]\n",
    "    print(ks_team)"
   ]
  },
  {
   "cell_type": "code",
   "execution_count": null,
   "metadata": {},
   "outputs": [],
   "source": [
    "print_ks_team()"
   ]
  },
  {
   "cell_type": "code",
   "execution_count": null,
   "metadata": {},
   "outputs": [],
   "source": [
    "player = \"A\"\n",
    "## %s = player = \"AC\"\n",
    "## player name = %s\n",
    "## player name = AC\n",
    "print(\"player name = %s\" %(player))"
   ]
  },
  {
   "cell_type": "code",
   "execution_count": null,
   "metadata": {},
   "outputs": [],
   "source": [
    "## step 1 : find my_print()\n",
    "## step 2 : player = \"lucas\" \n",
    "## step 3: a = player = \"lucas\"\n",
    "def my_print(a):\n",
    "    print(\"player name: %s\" % (a))\n",
    "my_print(player)\n",
    "print(player)"
   ]
  },
  {
   "cell_type": "code",
   "execution_count": null,
   "metadata": {},
   "outputs": [],
   "source": [
    "## a + b = c\n",
    "def my_add(a,b):\n",
    "    ## c = 1 + 2\n",
    "    c = a + b\n",
    "    return c\n",
    "\n",
    "## step 1: find function my_add\n",
    "## step 2: a = 1\n",
    "## step 3: b = 2 \n",
    "result = my_add(1,2)\n",
    "print(result)"
   ]
  }
 ],
 "metadata": {
  "kernelspec": {
   "display_name": "Python 3",
   "language": "python",
   "name": "python3"
  },
  "language_info": {
   "codemirror_mode": {
    "name": "ipython",
    "version": 3
   },
   "file_extension": ".py",
   "mimetype": "text/x-python",
   "name": "python",
   "nbconvert_exporter": "python",
   "pygments_lexer": "ipython3",
   "version": "3.8.2"
  }
 },
 "nbformat": 4,
 "nbformat_minor": 4
}
