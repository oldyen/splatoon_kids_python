{
 "cells": [
  {
   "cell_type": "markdown",
   "metadata": {},
   "source": [
    "# pythong\n",
    "1 jupyter notebook  \n",
    "2 stackoverflow: https://stackoverflow.com  \n",
    "3 github: https://github.com/oldyen/splatoon_kids_python "
   ]
  },
  {
   "cell_type": "markdown",
   "metadata": {},
   "source": [
    "# Outline\n",
    "\n",
    "1 variable 參數  \n",
    "1.1 integer 整數  \n",
    "1.2 float 浮點數  \n",
    "1.3 string 字串  \n",
    "1.4 bool (True/False)  \n",
    "1.5 list 串列  \n",
    "1.6 dictionary 字典 only available in python  \n",
    "2 if   \n",
    "3 for loop  \n",
    "4 while  \n",
    "5 function 函式\n",
    "6 object oriented (Class) 物件\n",
    "7 application 應用, e.g., data science, UX, or AI  "
   ]
  },
  {
   "cell_type": "markdown",
   "metadata": {},
   "source": [
    "## Vairable 參數"
   ]
  },
  {
   "cell_type": "code",
   "execution_count": 15,
   "metadata": {},
   "outputs": [
    {
     "data": {
      "text/plain": [
       "str"
      ]
     },
     "execution_count": 15,
     "metadata": {},
     "output_type": "execute_result"
    }
   ],
   "source": [
    "splatoon_player_name = \"Ben\" ## string \n",
    "type(splatoon_player_name)"
   ]
  },
  {
   "cell_type": "code",
   "execution_count": 17,
   "metadata": {},
   "outputs": [
    {
     "data": {
      "text/plain": [
       "int"
      ]
     },
     "execution_count": 17,
     "metadata": {},
     "output_type": "execute_result"
    }
   ],
   "source": [
    "splatoon_player_level = 88 ## integer\n",
    "type(splatoon_player_level)"
   ]
  },
  {
   "cell_type": "code",
   "execution_count": 18,
   "metadata": {},
   "outputs": [
    {
     "data": {
      "text/plain": [
       "float"
      ]
     },
     "execution_count": 18,
     "metadata": {},
     "output_type": "execute_result"
    }
   ],
   "source": [
    "splatoon_player_win = 48.5 ## float\n",
    "type(splatoon_player_win)"
   ]
  },
  {
   "cell_type": "code",
   "execution_count": 19,
   "metadata": {},
   "outputs": [
    {
     "data": {
      "text/plain": [
       "bool"
      ]
     },
     "execution_count": 19,
     "metadata": {},
     "output_type": "execute_result"
    }
   ],
   "source": [
    "splatoon_player_is_octo = True ## bool\n",
    "type(splatoon_player_is_octo)"
   ]
  }
 ],
 "metadata": {
  "kernelspec": {
   "display_name": "Python 3",
   "language": "python",
   "name": "python3"
  },
  "language_info": {
   "codemirror_mode": {
    "name": "ipython",
    "version": 3
   },
   "file_extension": ".py",
   "mimetype": "text/x-python",
   "name": "python",
   "nbconvert_exporter": "python",
   "pygments_lexer": "ipython3",
   "version": "3.8.2"
  }
 },
 "nbformat": 4,
 "nbformat_minor": 4
}
