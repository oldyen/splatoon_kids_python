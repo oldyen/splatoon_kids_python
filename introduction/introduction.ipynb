{
 "cells": [
  {
   "cell_type": "markdown",
   "metadata": {},
   "source": [
    "# pythong\n",
    "1 jupyter notebook  \n",
    "2 stackoverflow: https://stackoverflow.com  \n",
    "3 github: https://github.com/oldyen/splatoon_kids_python "
   ]
  },
  {
   "cell_type": "markdown",
   "metadata": {},
   "source": [
    "# Outline\n",
    "\n",
    "1 variable 參數  \n",
    "1.1 integer 整數  \n",
    "1.2 float 浮點數  \n",
    "1.3 string 字串  \n",
    "1.4 bool (True/False)  \n",
    "1.5 list 串列  \n",
    "1.6 dictionary 字典 only available in python  \n",
    "2 if   \n",
    "3 for loop  \n",
    "4 while  \n",
    "5 function 函式  \n",
    "6 object oriented (Class) 物件  \n",
    "7 application 應用, e.g., data science, UX, or AI  \n"
   ]
  },
  {
   "cell_type": "markdown",
   "metadata": {},
   "source": [
    "## Vairable 變數\n",
    "\n",
    "a = 1"
   ]
  },
  {
   "cell_type": "code",
   "execution_count": null,
   "metadata": {},
   "outputs": [],
   "source": [
    "splatoon_player_name = 'Ben' ## string \n",
    "type(splatoon_player_name)"
   ]
  },
  {
   "cell_type": "code",
   "execution_count": null,
   "metadata": {},
   "outputs": [],
   "source": [
    "splatoon_player_level = 88 ## integer\n",
    "type(splatoon_player_level)"
   ]
  },
  {
   "cell_type": "code",
   "execution_count": null,
   "metadata": {},
   "outputs": [],
   "source": [
    "splatoon_player_win = 48.5 ## float\n",
    "type(splatoon_player_win)"
   ]
  },
  {
   "cell_type": "code",
   "execution_count": null,
   "metadata": {},
   "outputs": [],
   "source": [
    "splatoon_player_is_octo = True ## bool \n",
    "type(splatoon_player_is_octo)"
   ]
  },
  {
   "cell_type": "markdown",
   "metadata": {},
   "source": [
    "## List 陣列"
   ]
  },
  {
   "cell_type": "code",
   "execution_count": null,
   "metadata": {},
   "outputs": [],
   "source": [
    "splatoon_player_name_1 = \"Luke\"\n",
    "splatoon_player_name_2 = \"Kyle\"\n",
    "splatoon_player_name_3 = \"Ben\"\n",
    "\n",
    "splatoon_ks_player_names = [\"Luke\", \"Kyle\", \"Ben\"]\n",
    "splatoon_ks_player_grades_string = [\"4\", \"5\", \"6\"]\n",
    "splatoon_ks_player_grades_int = [4, 5, 6]\n",
    "splatoon_ks_player_grades_float = [4.0, 5.0, 6.0]\n",
    "splatoon_ks_player_all_info = [[\"Luke\",4], [\"Kyle\",5],[\"Ben\",6]]\n",
    "print(splatoon_ks_player_names)\n",
    "print(splatoon_ks_player_grades_string)\n",
    "print(splatoon_ks_player_grades_int)\n",
    "print(splatoon_ks_player_grades_float)\n",
    "print(splatoon_ks_player_all_info)"
   ]
  },
  {
   "cell_type": "code",
   "execution_count": null,
   "metadata": {},
   "outputs": [],
   "source": [
    "splatoon_ks_player_names = [\"Luke\", \"Kyle\", \"Ben\"]\n",
    "print(splatoon_ks_player_names[0])\n",
    "print(splatoon_ks_player_names[1])\n",
    "print(splatoon_ks_player_names[2])\n",
    "print(splatoon_ks_player_names[-1])\n",
    "print(splatoon_ks_player_names[-2])\n",
    "print(splatoon_ks_player_names[0:2])\n",
    "print(splatoon_ks_player_names[1:3])\n",
    "\n",
    "print(splatoon_ks_player_names[0:-1])\n",
    "\n",
    "\n",
    "splatoon_ks_player_names = [\"Luke\", \"Kyle\", \"Ben\"]\n",
    "splatoon_ks_player_names[1] = \"AC\"\n",
    "print(splatoon_ks_player_names)\n",
    "\n",
    "\n",
    "splatoon_ks_player_names = [\"Luke\", \"Kyle\", \"Ben\"]\n",
    "splatoon_ks_player_names.append(\"AC\")\n",
    "print(splatoon_ks_player_names)\n"
   ]
  },
  {
   "cell_type": "code",
   "execution_count": 3,
   "metadata": {},
   "outputs": [
    {
     "name": "stdout",
     "output_type": "stream",
     "text": [
      "<class 'list'>\n",
      "<class 'int'>\n",
      "<class 'str'>\n",
      "<class 'float'>\n",
      "<class 'bool'>\n",
      "True\n"
     ]
    }
   ],
   "source": [
    "## variable = value (type = integer float string boolean list dictionary)\n",
    "## 變數 = 值 （型態 = 整數 浮點數 字串 布林值 陣列 字典）\n",
    "\n",
    "lucas = 3 ## integer\n",
    "lucas = \"son\" ## string\n",
    "lucas = 1.5 ## float\n",
    "lucas = True ## boolean\n",
    "\n",
    "lucas = [3,\"son\", 1.5, True]\n",
    "print(type(lucas))\n",
    "print(type(lucas[0]))\n",
    "print(type(lucas[1]))\n",
    "print(type(lucas[2]))\n",
    "print(type(lucas[3]))\n",
    "\n",
    "kitty = lucas\n",
    "kitty = lucas[-1]\n",
    "print(kitty)\n",
    "\n",
    "\n"
   ]
  },
  {
   "cell_type": "markdown",
   "metadata": {},
   "source": [
    "$\\sum_{i=1}^{n} \\sigma_i$"
   ]
  }
 ],
 "metadata": {
  "kernelspec": {
   "display_name": "Python 3",
   "language": "python",
   "name": "python3"
  },
  "language_info": {
   "codemirror_mode": {
    "name": "ipython",
    "version": 3
   },
   "file_extension": ".py",
   "mimetype": "text/x-python",
   "name": "python",
   "nbconvert_exporter": "python",
   "pygments_lexer": "ipython3",
   "version": "3.8.2"
  }
 },
 "nbformat": 4,
 "nbformat_minor": 4
}
