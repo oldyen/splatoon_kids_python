{
 "cells": [
  {
   "cell_type": "markdown",
   "metadata": {},
   "source": [
    "write a function, if I give you a list, the function can find the maximum value in the list    \n",
    "\n",
    "```python\n",
    "my_list = [1,3,2]\n",
    "\n",
    "result = my_max(my_list)\n",
    "print(result) ## you will get 3\n",
    "```"
   ]
  },
  {
   "cell_type": "markdown",
   "metadata": {},
   "source": []
  },
  {
   "cell_type": "code",
   "execution_count": 3,
   "metadata": {},
   "outputs": [
    {
     "name": "stdout",
     "output_type": "stream",
     "text": [
      "87\n"
     ]
    }
   ],
   "source": [
    "## all players\n",
    "my_list = [1,5,7,6,4]\n",
    "\n",
    "## 1-st player is winner\n",
    "result = my_list[0]\n",
    "\n",
    "## everyone try to challenge the winter \n",
    "for i in my_list:\n",
    "    \n",
    "    ## game\n",
    "    if i > result:\n",
    "        ## new winner\n",
    "        result = i\n",
    "        \n",
    "    \n",
    "        \n",
    "## show who is the winner\n",
    "print(result) "
   ]
  }
 ],
 "metadata": {
  "kernelspec": {
   "display_name": "Python 3",
   "language": "python",
   "name": "python3"
  },
  "language_info": {
   "codemirror_mode": {
    "name": "ipython",
    "version": 3
   },
   "file_extension": ".py",
   "mimetype": "text/x-python",
   "name": "python",
   "nbconvert_exporter": "python",
   "pygments_lexer": "ipython3",
   "version": "3.8.2"
  }
 },
 "nbformat": 4,
 "nbformat_minor": 4
}
