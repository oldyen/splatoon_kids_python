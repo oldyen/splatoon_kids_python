{
 "cells": [
  {
   "cell_type": "code",
   "execution_count": 30,
   "metadata": {},
   "outputs": [
    {
     "name": "stdout",
     "output_type": "stream",
     "text": [
      "rock\n"
     ]
    }
   ],
   "source": [
    "a = [\"scissor\",\"rock\",\"paper\"] ## list of string\n",
    "from random import randrange\n",
    "Luke=randrange(3) ## Luke = 0 or 1 or 2\n",
    "print(a[Luke])\n",
    "##print(a[randrange(3)])"
   ]
  },
  {
   "cell_type": "code",
   "execution_count": 32,
   "metadata": {},
   "outputs": [
    {
     "name": "stdout",
     "output_type": "stream",
     "text": [
      "rockLucas\n",
      "Lucas\n"
     ]
    }
   ],
   "source": [
    "\n",
    "if Luke == rock and Computetr == scissor:\n",
    "    XXXXXX\n",
    "\n",
    "\n",
    "y=input(a[Luke])\n",
    "\n",
    "print(y)\n",
    "#s=a[0]\n",
    "#r=a[1]\n",
    "#p=a[2]\n",
    "#if y==s:\n",
    "#    print(\"paper wins\")"
   ]
  }
 ],
 "metadata": {
  "kernelspec": {
   "display_name": "Python 3",
   "language": "python",
   "name": "python3"
  },
  "language_info": {
   "codemirror_mode": {
    "name": "ipython",
    "version": 3
   },
   "file_extension": ".py",
   "mimetype": "text/x-python",
   "name": "python",
   "nbconvert_exporter": "python",
   "pygments_lexer": "ipython3",
   "version": "3.8.2"
  }
 },
 "nbformat": 4,
 "nbformat_minor": 4
}
