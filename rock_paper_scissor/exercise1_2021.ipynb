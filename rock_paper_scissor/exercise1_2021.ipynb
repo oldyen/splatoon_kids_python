{
 "cells": [
  {
   "cell_type": "markdown",
   "metadata": {},
   "source": [
    "## Exercise 1 20201\n",
    "rock paper scissor: play with computer, and continue until you win\n",
    "* list\n",
    "* while\n",
    "* if \n",
    "* break\n",
    "* continue\n",
    "* function \n",
    "> from random import randrange  \n",
    "> print(randrange(3))  \n",
    "\n",
    "Step 1: how can we write a code that computer can show rock paper scissor? hint: use randrang and list"
   ]
  },
  {
   "cell_type": "code",
   "execution_count": null,
   "metadata": {},
   "outputs": [],
   "source": [
    "## random is library\n",
    "## randrange is a function in random lib\n",
    "from random import randrange\n",
    "game_rule = [\"rock\",\"paper\",\"scissor\"]\n",
    "\n",
    "your_act = input(\"please enter 1: rock, 2:paper, 3:scissor -->\")\n",
    "your_act = game_rule[int(your_act)-1]\n",
    "print(\"you: %s\" % (your_act))\n",
    "\n",
    "\n",
    "computer_act = game_rule[randrange(3)]\n",
    "print(\"computer: %s\" % (computer_act))\n",
    "\n",
    "\n",
    "if your_act == computer_act:\n",
    "    print(\"draw\")\n",
    "\n",
    "if (your_act == \"rock\" and computer_act == \"scissor\") or (your_act == \"paper\" and computer_act == \"rock\") or (your_act == \"scissor\" and computer_act == \"paper\"):\n",
    "    print(\"you win\")\n",
    "\n",
    "if (your_act == \"rock\" and computer_act == \"paper\") or (your_act == \"paper\" and computer_act == \"scissor\") or (your_act == \"scissor\" and computer_act == \"rock\"):\n",
    "    print(\"computer win\")   "
   ]
  },
  {
   "cell_type": "code",
   "execution_count": null,
   "metadata": {},
   "outputs": [],
   "source": []
  }
 ],
 "metadata": {
  "kernelspec": {
   "display_name": "Python 3",
   "language": "python",
   "name": "python3"
  },
  "language_info": {
   "codemirror_mode": {
    "name": "ipython",
    "version": 3
   },
   "file_extension": ".py",
   "mimetype": "text/x-python",
   "name": "python",
   "nbconvert_exporter": "python",
   "pygments_lexer": "ipython3",
   "version": "3.8.2"
  }
 },
 "nbformat": 4,
 "nbformat_minor": 4
}
