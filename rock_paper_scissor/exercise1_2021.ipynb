{
 "cells": [
  {
   "cell_type": "markdown",
   "metadata": {},
   "source": [
    "## Exercise 1 20201\n",
    "rock paper scissor: play with computer, and continue until you win\n",
    "* list\n",
    "* while\n",
    "* if \n",
    "* break\n",
    "* continue\n",
    "* function \n",
    "> from random import randrange  \n",
    "> print(randrange(3))  \n",
    "\n",
    "Step 1: how can we write a code that computer can show rock paper scissor? hint: use randrang and list"
   ]
  },
  {
   "cell_type": "code",
   "execution_count": 9,
   "metadata": {},
   "outputs": [
    {
     "name": "stdout",
     "output_type": "stream",
     "text": [
      "84\n"
     ]
    }
   ],
   "source": [
    "## random is library\n",
    "## randrange is a function in random lib\n",
    "from random import randrange\n",
    "computer = [\"rock\",\"paper\",\"scissor\"]\n",
    "\n",
    "print(computer[randrange(3))"
   ]
  },
  {
   "cell_type": "code",
   "execution_count": 10,
   "metadata": {},
   "outputs": [
    {
     "name": "stdout",
     "output_type": "stream",
     "text": [
      "0\n"
     ]
    }
   ],
   "source": [
    "import random \n",
    "print(random.randrange(10))"
   ]
  },
  {
   "cell_type": "code",
   "execution_count": null,
   "metadata": {},
   "outputs": [],
   "source": []
  }
 ],
 "metadata": {
  "kernelspec": {
   "display_name": "Python 3",
   "language": "python",
   "name": "python3"
  },
  "language_info": {
   "codemirror_mode": {
    "name": "ipython",
    "version": 3
   },
   "file_extension": ".py",
   "mimetype": "text/x-python",
   "name": "python",
   "nbconvert_exporter": "python",
   "pygments_lexer": "ipython3",
   "version": "3.8.2"
  }
 },
 "nbformat": 4,
 "nbformat_minor": 4
}
