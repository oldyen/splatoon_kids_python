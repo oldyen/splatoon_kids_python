{
 "cells": [
  {
   "cell_type": "markdown",
   "metadata": {},
   "source": [
    "## Exercise 1 20201\n",
    "rock paper scissor: play with computer, and continue until you win\n",
    "* list\n",
    "* while\n",
    "* if \n",
    "* break\n",
    "* continue\n",
    "* function \n",
    "> from random import randrange  \n",
    "> print(randrange(3))  \n",
    "\n",
    "Step 1: how can we write a code that computer can show rock paper scissor? hint: use randrang and list"
   ]
  },
  {
   "cell_type": "code",
   "execution_count": 2,
   "metadata": {},
   "outputs": [
    {
     "name": "stdout",
     "output_type": "stream",
     "text": [
      "+----------------------------------+\n",
      "please enter 1: rock, 2:paper, 3:scissor -->1\n",
      "you: rock\n",
      "computer: rock\n",
      "result: draw\n",
      "play again\n",
      "1-th games: 0 lose 1 draw\n",
      "+----------------------------------+\n",
      "please enter 1: rock, 2:paper, 3:scissor -->1\n",
      "you: rock\n",
      "computer: rock\n",
      "result: draw\n",
      "play again\n",
      "2-th games: 0 lose 2 draw\n",
      "+----------------------------------+\n",
      "please enter 1: rock, 2:paper, 3:scissor -->2\n",
      "you: paper\n",
      "computer: scissor\n",
      "result: computer win\n",
      "3-th games: 1 lose 2 draw\n",
      "+----------------------------------+\n",
      "please enter 1: rock, 2:paper, 3:scissor -->2\n",
      "you: paper\n",
      "computer: scissor\n",
      "result: computer win\n",
      "4-th games: 2 lose 2 draw\n",
      "+----------------------------------+\n",
      "please enter 1: rock, 2:paper, 3:scissor -->2\n",
      "you: paper\n",
      "computer: rock\n",
      "result: you win\n",
      "After 5-th games 2 lose 2 draw 1 win!!!!!\n"
     ]
    }
   ],
   "source": [
    "## random is library\n",
    "## randrange is a function in random lib\n",
    "from random import randrange\n",
    "game_rule = [\"rock\",\"paper\",\"scissor\"]\n",
    "\n",
    "\n",
    "time = 0\n",
    "draw = 0\n",
    "lose = 0\n",
    "while True:\n",
    "    print(\"+----------------------------------+\")\n",
    "    your_act = input(\"please enter 1: rock, 2:paper, 3:scissor -->\")\n",
    "    your_act = game_rule[int(your_act)-1]\n",
    "    print(\"you: %s\" % (your_act))\n",
    "\n",
    "    computer_act = game_rule[randrange(3)]\n",
    "    print(\"computer: %s\" % (computer_act))\n",
    "\n",
    "    time += 1\n",
    "   \n",
    "    if your_act == computer_act:\n",
    "        print(\"result: draw\")\n",
    "        draw = draw + 1\n",
    "        print(\"play again\")\n",
    "\n",
    "    if (your_act == \"rock\" and computer_act == \"scissor\") or (your_act == \"paper\" and computer_act == \"rock\") or (your_act == \"scissor\" and computer_act == \"paper\"):\n",
    "        print(\"result: you win\")\n",
    "        print(\"After %d-th games %d lose %d draw 1 win!!!!!\" % (time,draw,lose))\n",
    "        break \n",
    "        \n",
    "    if (your_act == \"rock\" and computer_act == \"paper\") or (your_act == \"paper\" and computer_act == \"scissor\") or (your_act == \"scissor\" and computer_act == \"rock\"):\n",
    "        lose = lose + 1\n",
    "        print(\"result: computer win\")  \n",
    "    print(\"%d-th games: %d lose %d draw\" % (time,lose, draw))"
   ]
  },
  {
   "cell_type": "markdown",
   "metadata": {},
   "source": [
    "```python\n",
    "while True:  \n",
    "    if you win:  \n",
    "        break  \n",
    "    if computer win or draw:    \n",
    "        continue\n",
    "```"
   ]
  },
  {
   "cell_type": "code",
   "execution_count": 1,
   "metadata": {},
   "outputs": [
    {
     "name": "stdout",
     "output_type": "stream",
     "text": [
      "3\n"
     ]
    }
   ],
   "source": [
    "a = 0\n",
    "True \n",
    "False\n",
    "while a < 1000000000:  \n",
    "    \n",
    "    a = a + 1\n",
    "    if a == 3:\n",
    "        print(a)\n",
    "        break\n",
    "    \n",
    "\n",
    "    "
   ]
  },
  {
   "cell_type": "code",
   "execution_count": 1,
   "metadata": {},
   "outputs": [
    {
     "data": {
      "text/plain": [
       "True"
      ]
     },
     "execution_count": 1,
     "metadata": {},
     "output_type": "execute_result"
    }
   ],
   "source": [
    "a = 0\n",
    "b = (a < 10)\n",
    "b = 0 < 10)\n",
    "b = True"
   ]
  },
  {
   "cell_type": "code",
   "execution_count": 3,
   "metadata": {},
   "outputs": [
    {
     "name": "stdout",
     "output_type": "stream",
     "text": [
      "False\n"
     ]
    }
   ],
   "source": [
    "a = 2\n",
    "b = (a == 3)\n",
    "b = False\n",
    "print(b)\n",
    "\n",
    "if True:\n",
    "if False: \n",
    "while True:\n",
    "while False\n",
    "\n",
    "while a = \"ben\" and lucas = 3:\n"
   ]
  }
 ],
 "metadata": {
  "kernelspec": {
   "display_name": "Python 3",
   "language": "python",
   "name": "python3"
  },
  "language_info": {
   "codemirror_mode": {
    "name": "ipython",
    "version": 3
   },
   "file_extension": ".py",
   "mimetype": "text/x-python",
   "name": "python",
   "nbconvert_exporter": "python",
   "pygments_lexer": "ipython3",
   "version": "3.8.2"
  }
 },
 "nbformat": 4,
 "nbformat_minor": 4
}
